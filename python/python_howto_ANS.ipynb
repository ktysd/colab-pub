{
 "cells": [
  {
   "cell_type": "markdown",
   "metadata": {},
   "source": [
    "# Python 練習帳（数値計算向け，Colab版）\n",
    "\n",
    "### 宇都宮大学　吉田勝俊"
   ]
  },
  {
   "cell_type": "markdown",
   "metadata": {},
   "source": [
    "## １．基本的事項\n",
    "\n",
    "### 用語説明\n",
    "* 「Colab ノートブック」　今みているこの文書．\n",
    "* 「セル」　Colab ノートブック内の入力可能な枠．\n",
    "* 「テキストセル」　文章を記述するためのセル．今読んでるここがテキストセルである．\n",
    "* 「コードセル」　Pythonのコードが実行できるセル．次行はコードセルである．"
   ]
  },
  {
   "cell_type": "code",
   "execution_count": null,
   "metadata": {},
   "outputs": [],
   "source": []
  },
  {
   "cell_type": "markdown",
   "metadata": {},
   "source": [
    "### コードセルの実行方法\n",
    "\n",
    "* 該当セルをクリックして選択すると，セルの左側に <font color=\"red\"> 実行ボタン</font>（再生ボタンみたいな）が現れる．それをクリックする．\n",
    "* または，選択中にキーボードから <font color=\"red\">《Ctrl-Enter》</font> する （<font color=\"red\">Ctrlキーを押しながらEnterキーを押す</font>）．\n",
    "    * ブラウザによっては《Shift-Enter》も受け付けるみたい\n",
    "\n",
    "### コードセルの追加方法\n",
    "\n",
    "* 左上メニューの「挿入」→「コードセル」で追加できる．\n",
    "\n",
    "### コメントアウト\n",
    "\n",
    "* コードセル内に <font color=\"red\">#</font> 文字を置くと，そこから行末までを python は無視します．コードセル内のメモ書きに使います．"
   ]
  },
  {
   "cell_type": "markdown",
   "metadata": {},
   "source": [
    "## ２．Python による数値計算\n",
    "\n",
    "以下のコードセルを，順番に実行してみましょう．（実行ボタンをクリックするか，《Ctrl-Enter》）"
   ]
  },
  {
   "cell_type": "markdown",
   "metadata": {},
   "source": [
    "### 四則演算・べき乗"
   ]
  },
  {
   "cell_type": "code",
   "execution_count": 1,
   "metadata": {},
   "outputs": [
    {
     "data": {
      "text/plain": [
       "2.5"
      ]
     },
     "execution_count": 1,
     "metadata": {},
     "output_type": "execute_result"
    }
   ],
   "source": [
    "1+2*3/4 # 1＋2×3÷4"
   ]
  },
  {
   "cell_type": "code",
   "execution_count": 2,
   "metadata": {},
   "outputs": [
    {
     "data": {
      "text/plain": [
       "8"
      ]
     },
     "execution_count": 2,
     "metadata": {},
     "output_type": "execute_result"
    }
   ],
   "source": [
    "2**3 # 2の3乗"
   ]
  },
  {
   "cell_type": "markdown",
   "metadata": {},
   "source": [
    "### ベクトル・行列\n",
    "\n",
    "ベクトル演算するには，それ用のライブラリ（拡張機能）をインポートする（読み込む）必要があります．"
   ]
  },
  {
   "cell_type": "code",
   "execution_count": 3,
   "metadata": {},
   "outputs": [],
   "source": [
    "import numpy as np # ベクトル演算ライブラリ numpy を，短縮名 np でインポートする．"
   ]
  },
  {
   "cell_type": "markdown",
   "metadata": {},
   "source": [
    "#### 【ベクトルの作成】"
   ]
  },
  {
   "cell_type": "code",
   "execution_count": 4,
   "metadata": {},
   "outputs": [
    {
     "name": "stdout",
     "output_type": "stream",
     "text": [
      "[ 1 -2  3]\n"
     ]
    }
   ],
   "source": [
    "v = np.array([1, -2, 3]) # ベクトル v の作成\n",
    "print(v) #成分の確認"
   ]
  },
  {
   "cell_type": "markdown",
   "metadata": {},
   "source": [
    "#### 【ベクトルの成分】　<font color=\"red\">※ Python の添字は `0` から始まる（C言語などと同じ）</font>"
   ]
  },
  {
   "cell_type": "code",
   "execution_count": 5,
   "metadata": {},
   "outputs": [
    {
     "name": "stdout",
     "output_type": "stream",
     "text": [
      "1\n",
      "-2\n",
      "3\n"
     ]
    }
   ],
   "source": [
    "print( v[0] ) # Python の第0成分 = 数学の第1成分\n",
    "print( v[1] ) # Python の第1成分 = 数学の第2成分\n",
    "print( v[2] ) # Python の第2成分 = 数学の第3成分"
   ]
  },
  {
   "cell_type": "markdown",
   "metadata": {},
   "source": [
    "#### 【行列の作成】"
   ]
  },
  {
   "cell_type": "code",
   "execution_count": 6,
   "metadata": {
    "scrolled": true
   },
   "outputs": [
    {
     "name": "stdout",
     "output_type": "stream",
     "text": [
      "[[-1  2  3]\n",
      " [ 4  5  6]\n",
      " [ 7  8  9]]\n"
     ]
    }
   ],
   "source": [
    "A = np.array([\n",
    "    [-1, 2, 3],\n",
    "    [4, 5, 6],\n",
    "    [7, 8, 9]\n",
    "]) # 行列 A の作成\n",
    "print(A) # 成分の確認"
   ]
  },
  {
   "cell_type": "markdown",
   "metadata": {},
   "source": [
    "#### 【行列の成分】"
   ]
  },
  {
   "cell_type": "code",
   "execution_count": 7,
   "metadata": {},
   "outputs": [
    {
     "name": "stdout",
     "output_type": "stream",
     "text": [
      "8\n"
     ]
    }
   ],
   "source": [
    "print( A[2, 1] ) # Pythonの3行2列成分 ＝ 数学の2行1列成分"
   ]
  },
  {
   "cell_type": "markdown",
   "metadata": {},
   "source": [
    "#### 【行列の行ベクトル】 \" <font color=\"red\">:</font> \" で全成分を表す．この操作をPythonでは「スライス」という．"
   ]
  },
  {
   "cell_type": "code",
   "execution_count": 8,
   "metadata": {
    "scrolled": true
   },
   "outputs": [
    {
     "name": "stdout",
     "output_type": "stream",
     "text": [
      "[-1  2  3]\n",
      "[4 5 6]\n",
      "[7 8 9]\n"
     ]
    }
   ],
   "source": [
    "print( A[0, :] ) # Pythonの第0 行ベクトル ＝ 数学の第1 行ベクトル\n",
    "print( A[1, :] ) # Pythonの第1 行ベクトル ＝ 数学の第2 行ベクトル\n",
    "print( A[2, :] ) # Pythonの第2 行ベクトル ＝ 数学の第3 行ベクトル"
   ]
  },
  {
   "cell_type": "markdown",
   "metadata": {},
   "source": [
    "#### 【行列の列ベクトル】"
   ]
  },
  {
   "cell_type": "code",
   "execution_count": 9,
   "metadata": {},
   "outputs": [
    {
     "name": "stdout",
     "output_type": "stream",
     "text": [
      "[-1  4  7]\n",
      "[2 5 8]\n",
      "[3 6 9]\n"
     ]
    }
   ],
   "source": [
    "print( A[:, 0] ) # Pythonの第0 列ベクトル ＝ 数学の第1 列ベクトル\n",
    "print( A[:, 1] ) # Pythonの第1 列ベクトル ＝ 数学の第2 列ベクトル\n",
    "print( A[:, 2] ) # Pythonの第2 列ベクトル ＝ 数学の第3 列ベクトル"
   ]
  },
  {
   "cell_type": "markdown",
   "metadata": {},
   "source": [
    "#### 【行列の転置】"
   ]
  },
  {
   "cell_type": "code",
   "execution_count": 10,
   "metadata": {
    "scrolled": true
   },
   "outputs": [
    {
     "name": "stdout",
     "output_type": "stream",
     "text": [
      "[[-1  4  7]\n",
      " [ 2  5  8]\n",
      " [ 3  6  9]]\n"
     ]
    }
   ],
   "source": [
    "Atrans = A.T # (行列).T で転置を表す\n",
    "print(Atrans) # 成分の確認"
   ]
  },
  {
   "cell_type": "markdown",
   "metadata": {},
   "source": [
    "### 線形代数\n",
    "\n",
    "線形代数するには，それ用のライブラリ（拡張機能）をインポートする（読み込む）必要があります．"
   ]
  },
  {
   "cell_type": "code",
   "execution_count": 11,
   "metadata": {},
   "outputs": [],
   "source": [
    "import numpy.linalg as la # numpy に含まれる線形代数ライブラリを，短縮名 la でインポートする．"
   ]
  },
  {
   "cell_type": "markdown",
   "metadata": {},
   "source": [
    "#### 【ベクトルの内積】"
   ]
  },
  {
   "cell_type": "code",
   "execution_count": 12,
   "metadata": {},
   "outputs": [
    {
     "data": {
      "text/plain": [
       "20"
      ]
     },
     "execution_count": 12,
     "metadata": {},
     "output_type": "execute_result"
    }
   ],
   "source": [
    "w = np.array([1, -2, 5]) # ベクトル w の作成\n",
    "np.dot(v, w) # ベクトル v とベクトル w の内積"
   ]
  },
  {
   "cell_type": "markdown",
   "metadata": {},
   "source": [
    "#### 【行列とベクトルの積】"
   ]
  },
  {
   "cell_type": "code",
   "execution_count": 13,
   "metadata": {
    "scrolled": true
   },
   "outputs": [
    {
     "data": {
      "text/plain": [
       "array([ 4, 12, 18])"
      ]
     },
     "execution_count": 13,
     "metadata": {},
     "output_type": "execute_result"
    }
   ],
   "source": [
    "np.dot(A, v) # 行列 A とベクトル v の積"
   ]
  },
  {
   "cell_type": "markdown",
   "metadata": {},
   "source": [
    "#### 【行列と行列の積】"
   ]
  },
  {
   "cell_type": "code",
   "execution_count": 14,
   "metadata": {},
   "outputs": [
    {
     "data": {
      "text/plain": [
       "array([[ 14,  24,  36],\n",
       "       [ 24,  77, 122],\n",
       "       [ 36, 122, 194]])"
      ]
     },
     "execution_count": 14,
     "metadata": {},
     "output_type": "execute_result"
    }
   ],
   "source": [
    "np.dot(A, Atrans) # 行列 A と行列 Atrans の積"
   ]
  },
  {
   "cell_type": "markdown",
   "metadata": {},
   "source": [
    "#### 【逆行列】"
   ]
  },
  {
   "cell_type": "code",
   "execution_count": 15,
   "metadata": {},
   "outputs": [
    {
     "name": "stdout",
     "output_type": "stream",
     "text": [
      "Ainv =  [[-0.5         1.         -0.5       ]\n",
      " [ 1.         -5.          3.        ]\n",
      " [-0.5         3.66666667 -2.16666667]]\n",
      "AinvA =  [[ 1.00000000e+00 -2.22044605e-15 -3.77475828e-15]\n",
      " [ 0.00000000e+00  1.00000000e+00  7.10542736e-15]\n",
      " [ 8.88178420e-16  0.00000000e+00  1.00000000e+00]]\n"
     ]
    }
   ],
   "source": [
    "Ainv = la.inv(A) # A の逆行列\n",
    "print( 'Ainv = ', Ainv) # 逆行列の成分\n",
    "AinvA = np.dot(Ainv, A) # 行列と逆行列の積\n",
    "print( 'AinvA = ', AinvA)"
   ]
  },
  {
   "cell_type": "markdown",
   "metadata": {},
   "source": [
    "**※ 計算機誤差について**\n",
    "\n",
    "- `AinvA` は数学的には単位行列になるはずだが，そうなってない．\n",
    "    - \"8.88178420e-16\" 等は $8.88178420 \\times 10^-16$ のコンピュータ表記である．\n",
    "    - `AinvA` の非対角要素は，`0`ではないものの，`0`に極めて近い．\n",
    "- このような真値からのズレは，電算機の丸め誤差から生じている．このような誤差を，**計算機誤差** という．\n",
    "- しばしば，次のように言い表す．「計算機誤差を考慮すると，`AinvA` は単位行列とみなせる」"
   ]
  },
  {
   "cell_type": "markdown",
   "metadata": {},
   "source": [
    "#### 【行列の固有値・固有ベクトル】 <font color=\"red\">計算結果の列ベクトルが固有ベクトル</font>"
   ]
  },
  {
   "cell_type": "markdown",
   "metadata": {},
   "source": [
    "計算結果をそのまま表示"
   ]
  },
  {
   "cell_type": "code",
   "execution_count": 16,
   "metadata": {
    "scrolled": true
   },
   "outputs": [
    {
     "name": "stdout",
     "output_type": "stream",
     "text": [
      "固有値 [15.91419258 -2.77849996 -0.13569263]\n",
      "固有ベクトル [[-0.20845476 -0.88435591  0.15856557]\n",
      " [-0.52872502  0.10368394 -0.79983004]\n",
      " [-0.82279795  0.45515302  0.57890316]]\n"
     ]
    }
   ],
   "source": [
    "eig_val, eig_vec = la.eig(A)\n",
    "print( '固有値', eig_val) # 固有値の並び\n",
    "print( '固有ベクトル', eig_vec) # 列ベクトルが固有ベクトルを表す"
   ]
  },
  {
   "cell_type": "markdown",
   "metadata": {},
   "source": [
    "対応する固有値・固有ベクトルごとに表示"
   ]
  },
  {
   "cell_type": "code",
   "execution_count": 17,
   "metadata": {},
   "outputs": [
    {
     "name": "stdout",
     "output_type": "stream",
     "text": [
      "15.914192581153744 [-0.20845476 -0.52872502 -0.82279795]\n",
      "-2.7784999552313403 [-0.88435591  0.10368394  0.45515302]\n",
      "-0.13569262592243475 [ 0.15856557 -0.79983004  0.57890316]\n"
     ]
    }
   ],
   "source": [
    "print( eig_val[0], eig_vec[:,0] ) # 1つ目の固有値・固有ベクトル\n",
    "print( eig_val[1], eig_vec[:,1] ) # 2つ目の固有値・固有ベクトル\n",
    "print( eig_val[2], eig_vec[:,2] ) # 3つ目の固有値・固有ベクトル"
   ]
  },
  {
   "cell_type": "markdown",
   "metadata": {},
   "source": [
    "### 複素数 \n",
    "\n",
    "<p><font color=\"red\">`j`で虚数単位を表す</font></p>"
   ]
  },
  {
   "cell_type": "code",
   "execution_count": 18,
   "metadata": {
    "scrolled": true
   },
   "outputs": [
    {
     "data": {
      "text/plain": [
       "(1+2j)"
      ]
     },
     "execution_count": 18,
     "metadata": {},
     "output_type": "execute_result"
    }
   ],
   "source": [
    "z = 1 + 2j\n",
    "z"
   ]
  },
  {
   "cell_type": "markdown",
   "metadata": {},
   "source": [
    "【複素共役（conjugate）】"
   ]
  },
  {
   "cell_type": "code",
   "execution_count": 19,
   "metadata": {},
   "outputs": [
    {
     "data": {
      "text/plain": [
       "(1-2j)"
      ]
     },
     "execution_count": 19,
     "metadata": {},
     "output_type": "execute_result"
    }
   ],
   "source": [
    "np.conj(1+2j)"
   ]
  },
  {
   "cell_type": "markdown",
   "metadata": {},
   "source": [
    "【複素数の実部（real part）と虚部（imaginary part）】"
   ]
  },
  {
   "cell_type": "code",
   "execution_count": 20,
   "metadata": {},
   "outputs": [
    {
     "data": {
      "text/plain": [
       "1.0"
      ]
     },
     "execution_count": 20,
     "metadata": {},
     "output_type": "execute_result"
    }
   ],
   "source": [
    "np.real(z) # 実部"
   ]
  },
  {
   "cell_type": "code",
   "execution_count": 21,
   "metadata": {},
   "outputs": [
    {
     "data": {
      "text/plain": [
       "2.0"
      ]
     },
     "execution_count": 21,
     "metadata": {},
     "output_type": "execute_result"
    }
   ],
   "source": [
    "np.imag(1+2j) # 虚部"
   ]
  },
  {
   "cell_type": "markdown",
   "metadata": {},
   "source": [
    "【複素数の四則演算】"
   ]
  },
  {
   "cell_type": "code",
   "execution_count": 22,
   "metadata": {},
   "outputs": [
    {
     "data": {
      "text/plain": [
       "(4+6j)"
      ]
     },
     "execution_count": 22,
     "metadata": {},
     "output_type": "execute_result"
    }
   ],
   "source": [
    "(1 + 2j) + (3 + 4j) # 複素数ごとに括弧でくくること推奨！"
   ]
  },
  {
   "cell_type": "code",
   "execution_count": 23,
   "metadata": {},
   "outputs": [
    {
     "data": {
      "text/plain": [
       "(4+6j)"
      ]
     },
     "execution_count": 23,
     "metadata": {},
     "output_type": "execute_result"
    }
   ],
   "source": [
    "1 + 2j + 3 + 4j # 括弧なしでもできるけど，見にくい！"
   ]
  },
  {
   "cell_type": "code",
   "execution_count": 24,
   "metadata": {},
   "outputs": [
    {
     "data": {
      "text/plain": [
       "(0.44+0.08j)"
      ]
     },
     "execution_count": 24,
     "metadata": {},
     "output_type": "execute_result"
    }
   ],
   "source": [
    "(1 + 2j) / (3 + 4j) # 割り算してみる．引き算 - ，掛け算 *  も普通にできる．"
   ]
  },
  {
   "cell_type": "markdown",
   "metadata": {},
   "source": [
    "【複素数の絶対値（absolute value）と偏角（angle）】"
   ]
  },
  {
   "cell_type": "code",
   "execution_count": 25,
   "metadata": {},
   "outputs": [
    {
     "name": "stdout",
     "output_type": "stream",
     "text": [
      "abs =  2.23606797749979\n",
      "angle =  1.1071487177940904\n"
     ]
    }
   ],
   "source": [
    "print( 'abs = ', np.abs(1+2j)) # 絶対値\n",
    "print( 'angle = ', np.angle(1+2j)) #  偏角"
   ]
  },
  {
   "cell_type": "markdown",
   "metadata": {},
   "source": [
    "### n 次方程式の根（root）\n",
    "\n",
    "- $a_n x^n + a_{n-1} x^{n-1} + \\cdots + a_1 x + a_0 = 0$ の根は次のコードで得られる．\n",
    "\n",
    "> np.roots( [$a_n$, $a_{n-1}$, $\\cdots$, $a_1$, $a_0$] )\n"
   ]
  },
  {
   "cell_type": "markdown",
   "metadata": {},
   "source": [
    "$x^2 + 2x + 3 = 0$ の根（実数根）"
   ]
  },
  {
   "cell_type": "code",
   "execution_count": 26,
   "metadata": {
    "scrolled": true
   },
   "outputs": [
    {
     "data": {
      "text/plain": [
       "array([-2., -1.])"
      ]
     },
     "execution_count": 26,
     "metadata": {},
     "output_type": "execute_result"
    }
   ],
   "source": [
    "np.roots([1, 3, 2])"
   ]
  },
  {
   "cell_type": "markdown",
   "metadata": {},
   "source": [
    "$x^2 + 1 = x^2 + 0x + 1 = 0$ の根（複素数根）"
   ]
  },
  {
   "cell_type": "code",
   "execution_count": 27,
   "metadata": {},
   "outputs": [
    {
     "data": {
      "text/plain": [
       "array([-0.+1.j,  0.-1.j])"
      ]
     },
     "execution_count": 27,
     "metadata": {},
     "output_type": "execute_result"
    }
   ],
   "source": [
    "np.roots([1, 0, 1])"
   ]
  },
  {
   "cell_type": "markdown",
   "metadata": {},
   "source": [
    "$2x^4 + 7x^3 + x^2 + 2x + 3 = 0$ の根（どうなるでしょう？）"
   ]
  },
  {
   "cell_type": "code",
   "execution_count": 28,
   "metadata": {
    "scrolled": true
   },
   "outputs": [
    {
     "data": {
      "text/plain": [
       "array([-3.40131658+0.j        ,  0.31084386+0.71803095j,\n",
       "        0.31084386-0.71803095j, -0.72037114+0.j        ])"
      ]
     },
     "execution_count": 28,
     "metadata": {},
     "output_type": "execute_result"
    }
   ],
   "source": [
    "np.roots([2, 7, 1, 2, 3])"
   ]
  },
  {
   "cell_type": "markdown",
   "metadata": {},
   "source": [
    "## ３．Python の制御文とユーザ関数"
   ]
  },
  {
   "cell_type": "markdown",
   "metadata": {},
   "source": [
    "### 繰り返し処理（ループ）\n",
    "\n",
    "次のように `for` を使って記述します．\n",
    "\n",
    "```python\n",
    "for 変数名 in range(反復回数): ←コロンを忘れずに！\n",
    "    インデントブロック　※\n",
    "    インデントブロック　※複数行に渡ってよい\n",
    "    インデントブロック　※\n",
    "```\n",
    "\n",
    "\n",
    "- 半角スペース…日本語入力OFFのときに入力される英語の空白文字．他方，かな漢字のスペースを全角スペースという．\n",
    "- インデント…半角スペースによる字下げ．全角スペースでインデントすると文法エラーになる．\n",
    "- インデントブロック…インデントの文字数を揃えた複数行の処理（1行でもよい）．<font color=\"red\">途中の空行は無視してくれる．</font>\n",
    "- Colab のコードセルは，インデント入力を補完する機能を備えている．"
   ]
  },
  {
   "cell_type": "code",
   "execution_count": 29,
   "metadata": {
    "scrolled": true
   },
   "outputs": [
    {
     "name": "stdout",
     "output_type": "stream",
     "text": [
      "(0, 0) -1\n",
      "(0, 1) 2\n",
      "(0, 2) 3\n",
      "(1, 0) 4\n",
      "(1, 1) 5\n",
      "(1, 2) 6\n",
      "(2, 0) 7\n",
      "(2, 1) 8\n",
      "(2, 2) 9\n"
     ]
    }
   ],
   "source": [
    "A = np.array([\n",
    "    [-1, 2, 3],\n",
    "    [4, 5, 6],\n",
    "    [7, 8, 9]\n",
    "]) # 行列 A の作成\n",
    "\n",
    "for i in range(3): # i は 0, 1, 2 と動く\n",
    "    for j in range(3): # その中で，j は 0, 1, 2 と動く\n",
    "        print((i,j),A[i,j])"
   ]
  },
  {
   "cell_type": "markdown",
   "metadata": {},
   "source": [
    "### 条件分岐\n",
    "\n",
    "次のように `if` を使って記述します．\n",
    "\n",
    "```python\n",
    "if 条件: ←コロンを忘れずに！\n",
    "    インデントブロック（条件を満したときの処理）※複数行に渡ってよい\n",
    "```\n",
    "\n",
    "または\n",
    "\n",
    "```python\n",
    "if 条件: ←コロンを忘れずに！\n",
    "    インデントブロック（条件を満したときの処理）\n",
    "else: ←コロンを忘れずに！\n",
    "    インデントブロック（条件を満たさないときの処理）\n",
    "```\n",
    "\n",
    "または\n",
    "\n",
    "```python\n",
    "if 条件１: ←コロンを忘れずに！\n",
    "    インデントブロック（条件１を満したときの処理）\n",
    "elif 条件２: ←コロンを忘れずに！\n",
    "    インデントブロック（条件１を満たさず，条件２を満たしたときの処理）\n",
    "else: ←コロンを忘れずに！\n",
    "    インデントブロック（それ以外の処理）\n",
    "```\n",
    "\n",
    "※ `elif` は，いくつあっても（無くても）大丈夫です．"
   ]
  },
  {
   "cell_type": "code",
   "execution_count": 30,
   "metadata": {},
   "outputs": [
    {
     "name": "stdout",
     "output_type": "stream",
     "text": [
      "対角要素 -1\n",
      "上三角 2\n",
      "上三角 3\n",
      "それ以外（下三角） 4\n",
      "対角要素 5\n",
      "上三角 6\n",
      "それ以外（下三角） 7\n",
      "それ以外（下三角） 8\n",
      "対角要素 9\n"
     ]
    }
   ],
   "source": [
    "A = np.array([\n",
    "    [-1, 2, 3],\n",
    "    [4, 5, 6],\n",
    "    [7, 8, 9]\n",
    "]) # 行列 A の作成\n",
    "\n",
    "for i in range(3):\n",
    "    for j in range(3):\n",
    "        if i == j:\n",
    "            print( '対角要素', A[i,j] )\n",
    "        elif i<j:\n",
    "            print( '上三角', A[i,j] )\n",
    "        else:\n",
    "            print( 'それ以外（下三角）', A[i,j] )\n"
   ]
  },
  {
   "cell_type": "markdown",
   "metadata": {},
   "source": [
    "### ユーザー関数の定義\n",
    "\n",
    "自分で新しい関数を作ることができます．`def` を使って次のように記述します．\n",
    "\n",
    "```python\n",
    "def 関数名(引数1, 引数2, …): ←コロンを忘れずに！\n",
    "    インデントブロック　※複数行に渡ってよい\n",
    "    return 戻り値　←必要なければ省略可能\n",
    "```"
   ]
  },
  {
   "cell_type": "markdown",
   "metadata": {},
   "source": [
    "【１変数関数の例】"
   ]
  },
  {
   "cell_type": "code",
   "execution_count": 31,
   "metadata": {},
   "outputs": [],
   "source": [
    "def my_angle(c): #複素数から偏角を求めるユーザー関数\n",
    "    imag = np.imag(c) # 実部\n",
    "    real = np.real(c) # 虚部\n",
    "                      # 空行は無視される\n",
    "    angle = np.arctan(imag/real) # 偏角の数学的な定義\n",
    "                      # 空行は無視される    \n",
    "    return angle"
   ]
  },
  {
   "cell_type": "code",
   "execution_count": 32,
   "metadata": {},
   "outputs": [
    {
     "data": {
      "text/plain": [
       "1.1071487177940904"
      ]
     },
     "execution_count": 32,
     "metadata": {},
     "output_type": "execute_result"
    }
   ],
   "source": [
    "my_angle(1 + 2j)"
   ]
  },
  {
   "cell_type": "code",
   "execution_count": 33,
   "metadata": {},
   "outputs": [
    {
     "data": {
      "text/plain": [
       "1.1071487177940904"
      ]
     },
     "execution_count": 33,
     "metadata": {},
     "output_type": "execute_result"
    }
   ],
   "source": [
    "np.angle(1 + 2j)"
   ]
  },
  {
   "cell_type": "markdown",
   "metadata": {},
   "source": [
    "Numpy の `angle` 関数と同じ答えが出せてます．"
   ]
  },
  {
   "cell_type": "markdown",
   "metadata": {},
   "source": [
    "【１変数関数で，戻り値を複数返す場合】"
   ]
  },
  {
   "cell_type": "code",
   "execution_count": 34,
   "metadata": {},
   "outputs": [],
   "source": [
    "def my_real_imag_angle(c): #複素数から偏角を求めるユーザー関数\n",
    "    imag = np.imag(c) # 実部\n",
    "    real = np.real(c) # 虚部\n",
    "    \n",
    "    angle = np.arctan(imag/real) # 偏角の数学的な定義\n",
    "    \n",
    "    return (real, imag, angle) #カッコ内にコンマで並べるだけ"
   ]
  },
  {
   "cell_type": "code",
   "execution_count": 35,
   "metadata": {},
   "outputs": [
    {
     "data": {
      "text/plain": [
       "(1.0, 2.0, 1.1071487177940904)"
      ]
     },
     "execution_count": 35,
     "metadata": {},
     "output_type": "execute_result"
    }
   ],
   "source": [
    "my_real_imag_angle(1 + 2j)"
   ]
  },
  {
   "cell_type": "markdown",
   "metadata": {},
   "source": [
    "複数の戻り値は，カンマで並べた変数に一括代入できます．"
   ]
  },
  {
   "cell_type": "code",
   "execution_count": 36,
   "metadata": {
    "scrolled": true
   },
   "outputs": [
    {
     "name": "stdout",
     "output_type": "stream",
     "text": [
      "1.0\n",
      "2.0\n",
      "1.1071487177940904\n"
     ]
    }
   ],
   "source": [
    "re, im, ang = my_real_imag_angle(1 + 2j)\n",
    "\n",
    "print(re)\n",
    "print(im)\n",
    "print(ang)"
   ]
  },
  {
   "cell_type": "markdown",
   "metadata": {},
   "source": [
    "## ４．Python によるグラフ作成\n",
    "\n",
    "グラフを作成するには，それ用のライブラリ（拡張機能）をインポートする（読み込む）必要があります．"
   ]
  },
  {
   "cell_type": "code",
   "execution_count": 37,
   "metadata": {},
   "outputs": [],
   "source": [
    "import matplotlib.pyplot as plt # グラフ作成ライブラリを，短縮名 plt でインポートする．"
   ]
  },
  {
   "cell_type": "markdown",
   "metadata": {},
   "source": [
    "【横軸を表す等差数列】　Python のプログラム例では，変数 x の複数形？ xs で数列やベクトルを表すことが多い．"
   ]
  },
  {
   "cell_type": "code",
   "execution_count": 38,
   "metadata": {},
   "outputs": [
    {
     "data": {
      "text/plain": [
       "array([-5.        , -4.8989899 , -4.7979798 , -4.6969697 , -4.5959596 ,\n",
       "       -4.49494949, -4.39393939, -4.29292929, -4.19191919, -4.09090909,\n",
       "       -3.98989899, -3.88888889, -3.78787879, -3.68686869, -3.58585859,\n",
       "       -3.48484848, -3.38383838, -3.28282828, -3.18181818, -3.08080808,\n",
       "       -2.97979798, -2.87878788, -2.77777778, -2.67676768, -2.57575758,\n",
       "       -2.47474747, -2.37373737, -2.27272727, -2.17171717, -2.07070707,\n",
       "       -1.96969697, -1.86868687, -1.76767677, -1.66666667, -1.56565657,\n",
       "       -1.46464646, -1.36363636, -1.26262626, -1.16161616, -1.06060606,\n",
       "       -0.95959596, -0.85858586, -0.75757576, -0.65656566, -0.55555556,\n",
       "       -0.45454545, -0.35353535, -0.25252525, -0.15151515, -0.05050505,\n",
       "        0.05050505,  0.15151515,  0.25252525,  0.35353535,  0.45454545,\n",
       "        0.55555556,  0.65656566,  0.75757576,  0.85858586,  0.95959596,\n",
       "        1.06060606,  1.16161616,  1.26262626,  1.36363636,  1.46464646,\n",
       "        1.56565657,  1.66666667,  1.76767677,  1.86868687,  1.96969697,\n",
       "        2.07070707,  2.17171717,  2.27272727,  2.37373737,  2.47474747,\n",
       "        2.57575758,  2.67676768,  2.77777778,  2.87878788,  2.97979798,\n",
       "        3.08080808,  3.18181818,  3.28282828,  3.38383838,  3.48484848,\n",
       "        3.58585859,  3.68686869,  3.78787879,  3.88888889,  3.98989899,\n",
       "        4.09090909,  4.19191919,  4.29292929,  4.39393939,  4.49494949,\n",
       "        4.5959596 ,  4.6969697 ,  4.7979798 ,  4.8989899 ,  5.        ])"
      ]
     },
     "execution_count": 38,
     "metadata": {},
     "output_type": "execute_result"
    }
   ],
   "source": [
    "xs = np.linspace( -5, 5, 100 ) # -5 〜 5 を100等分した等差数列\n",
    "xs"
   ]
  },
  {
   "cell_type": "markdown",
   "metadata": {},
   "source": [
    "【sin関数の例】"
   ]
  },
  {
   "cell_type": "code",
   "execution_count": 39,
   "metadata": {},
   "outputs": [
    {
     "data": {
      "text/plain": [
       "array([ 0.95892427,  0.98264051,  0.99633934,  0.99988113,  0.99322975,\n",
       "        0.97645303,  0.94972199,  0.91330913,  0.86758566,  0.8130177 ,\n",
       "        0.75016154,  0.67965796,  0.60222569,  0.51865411,  0.42979519,\n",
       "        0.33655477,  0.23988339,  0.14076655,  0.04021468, -0.06074715,\n",
       "       -0.1610897 , -0.25979004, -0.35584199, -0.44826636, -0.53612093,\n",
       "       -0.61851008, -0.69459392, -0.76359681, -0.82481532, -0.87762535,\n",
       "       -0.92148855, -0.95595775, -0.98068157, -0.99540796, -0.99998679,\n",
       "       -0.99437139, -0.978619  , -0.95289021, -0.91744731, -0.87265161,\n",
       "       -0.81895978, -0.75691917, -0.68716224, -0.61040014, -0.52741539,\n",
       "       -0.43905397, -0.34621667, -0.24984992, -0.1509361 , -0.05048358,\n",
       "        0.05048358,  0.1509361 ,  0.24984992,  0.34621667,  0.43905397,\n",
       "        0.52741539,  0.61040014,  0.68716224,  0.75691917,  0.81895978,\n",
       "        0.87265161,  0.91744731,  0.95289021,  0.978619  ,  0.99437139,\n",
       "        0.99998679,  0.99540796,  0.98068157,  0.95595775,  0.92148855,\n",
       "        0.87762535,  0.82481532,  0.76359681,  0.69459392,  0.61851008,\n",
       "        0.53612093,  0.44826636,  0.35584199,  0.25979004,  0.1610897 ,\n",
       "        0.06074715, -0.04021468, -0.14076655, -0.23988339, -0.33655477,\n",
       "       -0.42979519, -0.51865411, -0.60222569, -0.67965796, -0.75016154,\n",
       "       -0.8130177 , -0.86758566, -0.91330913, -0.94972199, -0.97645303,\n",
       "       -0.99322975, -0.99988113, -0.99633934, -0.98264051, -0.95892427])"
      ]
     },
     "execution_count": 39,
     "metadata": {},
     "output_type": "execute_result"
    }
   ],
   "source": [
    "ys = np.sin(xs)\n",
    "ys"
   ]
  },
  {
   "cell_type": "code",
   "execution_count": 40,
   "metadata": {},
   "outputs": [
    {
     "data": {
      "text/plain": [
       "Text(0,0.5,'sin(x)')"
      ]
     },
     "execution_count": 40,
     "metadata": {},
     "output_type": "execute_result"
    },
    {
     "data": {
      "image/png": "[encoded data removed]",
      "text/plain": [
       "<matplotlib.figure.Figure at 0x7f38d3916eb8>"
      ]
     },
     "metadata": {},
     "output_type": "display_data"
    }
   ],
   "source": [
    "plt.figure( figsize=(8,4) ) # グラフ用紙のサイズ\n",
    "plt.plot( xs, ys ) # プロット命令\n",
    "plt.grid() # グリッド表示\n",
    "\n",
    "### 各種のラベルやタイトルに，日本語は避けたほうが安全です．（文字化けするかも）\n",
    "plt.title( 'Sin function (xxxxxxX)' ) # 学籍番号を入れときましょう\n",
    "plt.xlabel( 'x' )  # 横軸ラベル\n",
    "plt.ylabel( 'sin(x)' )  # 横軸ラベル"
   ]
  },
  {
   "cell_type": "markdown",
   "metadata": {},
   "source": [
    "【グラフの印刷】\n",
    "\n",
    "- 一番お手軽だと思われるのは，グラフ画像をワープロソフトに，コピペしてから印刷する方法です．\n",
    "    - 表示されているグラフ画像の，右クリックメニュー等から「画像をコピー」を実行する．\n",
    "    - ワードやパワーポイントなどのファイルにペーストする．\n",
    "    - そのソフトの印刷機能を使って印刷する．"
   ]
  },
  {
   "cell_type": "code",
   "execution_count": null,
   "metadata": {},
   "outputs": [],
   "source": []
  }
 ],
 "metadata": {
  "kernelspec": {
   "display_name": "Python 3",
   "language": "python",
   "name": "python3"
  },
  "language_info": {
   "codemirror_mode": {
    "name": "ipython",
    "version": 3
   },
   "file_extension": ".py",
   "mimetype": "text/x-python",
   "name": "python",
   "nbconvert_exporter": "python",
   "pygments_lexer": "ipython3",
   "version": "3.6.7"
  }
 },
 "nbformat": 4,
 "nbformat_minor": 2
}
