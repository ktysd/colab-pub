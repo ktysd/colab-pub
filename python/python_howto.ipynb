{
 "cells": [
  {
   "cell_type": "markdown",
   "metadata": {},
   "source": [
    "# Python 練習帳（数値計算向け，Colab版）\n",
    "\n",
    "### 宇都宮大学　吉田勝俊"
   ]
  },
  {
   "cell_type": "markdown",
   "metadata": {},
   "source": [
    "## １．基本的事項\n",
    "\n",
    "### 用語説明\n",
    "* 「Colab ノートブック」　今みているこの文書．\n",
    "* 「セル」　Colab ノートブック内の入力可能な枠．\n",
    "* 「テキストセル」　文章を記述するためのセル．今読んでるここがテキストセルである．\n",
    "* 「コードセル」　Pythonのコードが実行できるセル．次行はコードセルである．"
   ]
  },
  {
   "cell_type": "code",
   "execution_count": null,
   "metadata": {},
   "outputs": [],
   "source": []
  },
  {
   "cell_type": "markdown",
   "metadata": {},
   "source": [
    "### コードセルの実行方法\n",
    "\n",
    "- 該当セルをクリックして選択すると，セルの左側に <font color=\"red\"> 実行ボタン</font>（再生ボタンみたいな）が現れる．それをクリックする．\n",
    "- または，選択中にキーボードから <font color=\"red\">《Ctrl-Enter》</font> する （<font color=\"red\">Ctrlキーを押しながらEnterキーを押す</font>）．\n",
    "    * ブラウザによっては《Shift-Enter》も受け付けるみたい\n",
    "\n",
    "### コードセルの追加方法\n",
    "\n",
    "- 左上メニューの「挿入」→「コードセル」で追加できる．\n",
    "\n",
    "### コメントアウト\n",
    "\n",
    "- コードセル内に <font color=\"red\">#</font> 文字を置くと，そこから行末までを python は無視します．コードセル内のメモ書きに使います．\n",
    "\n",
    "### セルの自動折りたたみ対策\n",
    "\n",
    "- 〔 <font color=\"red\">***↳ ？ 個のセルが非表示***</font> 〕という表示があったら，その表示をクリックしてください．Colab が隠してしまった内容が表示されます．"
   ]
  },
  {
   "cell_type": "markdown",
   "metadata": {},
   "source": [
    "## ２．Python による数値計算\n",
    "\n",
    "以下のコードセルを，順番に実行してみましょう．（実行ボタンをクリックするか，《Ctrl-Enter》）"
   ]
  },
  {
   "cell_type": "markdown",
   "metadata": {},
   "source": [
    "### 四則演算・べき乗"
   ]
  },
  {
   "cell_type": "code",
   "execution_count": null,
   "metadata": {},
   "outputs": [],
   "source": [
    "1+2*3/4 # 1＋2×3÷4"
   ]
  },
  {
   "cell_type": "code",
   "execution_count": null,
   "metadata": {},
   "outputs": [],
   "source": [
    "2**3 # 2の3乗"
   ]
  },
  {
   "cell_type": "markdown",
   "metadata": {},
   "source": [
    "### ベクトル・行列\n",
    "\n",
    "ベクトル演算するには，それ用のライブラリ（拡張機能）をインポートする（読み込む）必要があります．"
   ]
  },
  {
   "cell_type": "code",
   "execution_count": null,
   "metadata": {},
   "outputs": [],
   "source": [
    "import numpy as np # ベクトル演算ライブラリ numpy を，短縮名 np でインポートする．"
   ]
  },
  {
   "cell_type": "markdown",
   "metadata": {},
   "source": [
    "#### 【ベクトルの作成】"
   ]
  },
  {
   "cell_type": "code",
   "execution_count": null,
   "metadata": {},
   "outputs": [],
   "source": [
    "v = np.array([1, -2, 3]) # ベクトル v の作成\n",
    "print(v) #成分の確認"
   ]
  },
  {
   "cell_type": "markdown",
   "metadata": {},
   "source": [
    "#### 【ベクトルの成分】　<font color=\"red\">※ Python の添字は `0` から始まる（C言語などと同じ）</font>"
   ]
  },
  {
   "cell_type": "code",
   "execution_count": null,
   "metadata": {},
   "outputs": [],
   "source": [
    "print( v[0] ) # Python の第0成分 = 数学の第1成分\n",
    "print( v[1] ) # Python の第1成分 = 数学の第2成分\n",
    "print( v[2] ) # Python の第2成分 = 数学の第3成分"
   ]
  },
  {
   "cell_type": "markdown",
   "metadata": {},
   "source": [
    "#### 【行列の作成】"
   ]
  },
  {
   "cell_type": "code",
   "execution_count": null,
   "metadata": {
    "scrolled": true
   },
   "outputs": [],
   "source": [
    "A = np.array([\n",
    "    [-1, 2, 3],\n",
    "    [4, 5, 6],\n",
    "    [7, 8, 9]\n",
    "]) # 行列 A の作成\n",
    "print(A) # 成分の確認"
   ]
  },
  {
   "cell_type": "markdown",
   "metadata": {},
   "source": [
    "#### 【行列の成分】"
   ]
  },
  {
   "cell_type": "code",
   "execution_count": null,
   "metadata": {},
   "outputs": [],
   "source": [
    "print( A[2, 1] ) # Pythonの3行2列成分 ＝ 数学の2行1列成分"
   ]
  },
  {
   "cell_type": "markdown",
   "metadata": {},
   "source": [
    "#### 【行列の行ベクトル】 \" <font color=\"red\">:</font> \" で全成分を表す．この操作をPythonでは「スライス」という．"
   ]
  },
  {
   "cell_type": "code",
   "execution_count": null,
   "metadata": {
    "scrolled": true
   },
   "outputs": [],
   "source": [
    "print( A[0, :] ) # Pythonの第0 行ベクトル ＝ 数学の第1 行ベクトル\n",
    "print( A[1, :] ) # Pythonの第1 行ベクトル ＝ 数学の第2 行ベクトル\n",
    "print( A[2, :] ) # Pythonの第2 行ベクトル ＝ 数学の第3 行ベクトル"
   ]
  },
  {
   "cell_type": "markdown",
   "metadata": {},
   "source": [
    "#### 【行列の列ベクトル】"
   ]
  },
  {
   "cell_type": "code",
   "execution_count": null,
   "metadata": {},
   "outputs": [],
   "source": [
    "print( A[:, 0] ) # Pythonの第0 列ベクトル ＝ 数学の第1 列ベクトル\n",
    "print( A[:, 1] ) # Pythonの第1 列ベクトル ＝ 数学の第2 列ベクトル\n",
    "print( A[:, 2] ) # Pythonの第2 列ベクトル ＝ 数学の第3 列ベクトル"
   ]
  },
  {
   "cell_type": "markdown",
   "metadata": {},
   "source": [
    "#### 【行列の転置】"
   ]
  },
  {
   "cell_type": "code",
   "execution_count": null,
   "metadata": {
    "scrolled": true
   },
   "outputs": [],
   "source": [
    "Atrans = A.T # (行列).T で転置を表す\n",
    "print(Atrans) # 成分の確認"
   ]
  },
  {
   "cell_type": "markdown",
   "metadata": {},
   "source": [
    "### 線形代数\n",
    "\n",
    "線形代数するには，それ用のライブラリ（拡張機能）をインポートする（読み込む）必要があります．"
   ]
  },
  {
   "cell_type": "code",
   "execution_count": null,
   "metadata": {},
   "outputs": [],
   "source": [
    "import numpy.linalg as la # numpy に含まれる線形代数ライブラリを，短縮名 la でインポートする．"
   ]
  },
  {
   "cell_type": "markdown",
   "metadata": {},
   "source": [
    "#### 【ベクトルの内積】"
   ]
  },
  {
   "cell_type": "code",
   "execution_count": null,
   "metadata": {},
   "outputs": [],
   "source": [
    "w = np.array([1, -2, 5]) # ベクトル w の作成\n",
    "np.dot(v, w) # ベクトル v とベクトル w の内積"
   ]
  },
  {
   "cell_type": "markdown",
   "metadata": {},
   "source": [
    "#### 【行列とベクトルの積】"
   ]
  },
  {
   "cell_type": "code",
   "execution_count": null,
   "metadata": {
    "scrolled": true
   },
   "outputs": [],
   "source": [
    "np.dot(A, v) # 行列 A とベクトル v の積"
   ]
  },
  {
   "cell_type": "markdown",
   "metadata": {},
   "source": [
    "#### 【行列と行列の積】"
   ]
  },
  {
   "cell_type": "code",
   "execution_count": null,
   "metadata": {},
   "outputs": [],
   "source": [
    "np.dot(A, Atrans) # 行列 A と行列 Atrans の積"
   ]
  },
  {
   "cell_type": "markdown",
   "metadata": {},
   "source": [
    "#### 【逆行列】"
   ]
  },
  {
   "cell_type": "code",
   "execution_count": null,
   "metadata": {},
   "outputs": [],
   "source": [
    "Ainv = la.inv(A) # A の逆行列\n",
    "print( 'Ainv = ', Ainv) # 逆行列の成分\n",
    "AinvA = np.dot(Ainv, A) # 行列と逆行列の積\n",
    "print( 'AinvA = ', AinvA)"
   ]
  },
  {
   "cell_type": "markdown",
   "metadata": {},
   "source": [
    "**※ 計算機誤差について**\n",
    "\n",
    "- `AinvA` は数学的には単位行列になるはずだが，そうなってない．\n",
    "- 8.88178420e-16 等は $8.88178420\\times10^{-16}$ のコンピュータ表記である．\n",
    "    - `AinvA` の非対角要素は，`0`ではないものの，`0`に極めて近い．\n",
    "- このような真値からのズレは，電算機の丸め誤差から生じている．このような誤差を，**計算機誤差** という．\n",
    "    - しばしば，次のように言い表す．「計算機誤差を考慮すると，`AinvA` は単位行列とみなせる」"
   ]
  },
  {
   "cell_type": "markdown",
   "metadata": {},
   "source": [
    "#### 【行列の固有値・固有ベクトル】 <font color=\"red\">計算結果の列ベクトルが固有ベクトル</font>"
   ]
  },
  {
   "cell_type": "markdown",
   "metadata": {},
   "source": [
    "#### 計算結果をそのまま表示"
   ]
  },
  {
   "cell_type": "code",
   "execution_count": null,
   "metadata": {
    "scrolled": true
   },
   "outputs": [],
   "source": [
    "eig_val, eig_vec = la.eig(A)\n",
    "print( '固有値', eig_val) # 固有値の並び\n",
    "print( '固有ベクトル', eig_vec) # 列ベクトルが固有ベクトルを表す"
   ]
  },
  {
   "cell_type": "markdown",
   "metadata": {},
   "source": [
    "#### 対応する固有値・固有ベクトルごとに表示"
   ]
  },
  {
   "cell_type": "code",
   "execution_count": null,
   "metadata": {},
   "outputs": [],
   "source": [
    "print( eig_val[0], eig_vec[:,0] ) # 1つ目の固有値・固有ベクトル\n",
    "print( eig_val[1], eig_vec[:,1] ) # 2つ目の固有値・固有ベクトル\n",
    "print( eig_val[2], eig_vec[:,2] ) # 3つ目の固有値・固有ベクトル"
   ]
  },
  {
   "cell_type": "markdown",
   "metadata": {},
   "source": [
    "### 複素数 \n",
    "\n",
    "#### <p><font color=\"red\">`j`で虚数単位を表す</font></p>"
   ]
  },
  {
   "cell_type": "code",
   "execution_count": null,
   "metadata": {
    "scrolled": true
   },
   "outputs": [],
   "source": [
    "z = 1 + 2j\n",
    "z"
   ]
  },
  {
   "cell_type": "markdown",
   "metadata": {},
   "source": [
    "#### 【複素共役（conjugate）】"
   ]
  },
  {
   "cell_type": "code",
   "execution_count": null,
   "metadata": {},
   "outputs": [],
   "source": [
    "np.conj(1+2j)"
   ]
  },
  {
   "cell_type": "markdown",
   "metadata": {},
   "source": [
    "#### 【複素数の実部（real part）と虚部（imaginary part）】"
   ]
  },
  {
   "cell_type": "code",
   "execution_count": null,
   "metadata": {},
   "outputs": [],
   "source": [
    "np.real(z) # 実部"
   ]
  },
  {
   "cell_type": "code",
   "execution_count": null,
   "metadata": {},
   "outputs": [],
   "source": [
    "np.imag(1+2j) # 虚部"
   ]
  },
  {
   "cell_type": "markdown",
   "metadata": {},
   "source": [
    "#### 【複素数の四則演算】"
   ]
  },
  {
   "cell_type": "code",
   "execution_count": null,
   "metadata": {},
   "outputs": [],
   "source": [
    "(1 + 2j) + (3 + 4j) # 複素数ごとに括弧でくくること推奨！"
   ]
  },
  {
   "cell_type": "code",
   "execution_count": null,
   "metadata": {},
   "outputs": [],
   "source": [
    "1 + 2j + 3 + 4j # 括弧なしでもできるけど，見にくい！"
   ]
  },
  {
   "cell_type": "code",
   "execution_count": null,
   "metadata": {},
   "outputs": [],
   "source": [
    "(1 + 2j) / (3 + 4j) # 割り算してみる．引き算 - ，掛け算 *  も普通にできる．"
   ]
  },
  {
   "cell_type": "markdown",
   "metadata": {},
   "source": [
    "#### 【複素数の絶対値（absolute value）と偏角（angle）】"
   ]
  },
  {
   "cell_type": "code",
   "execution_count": null,
   "metadata": {},
   "outputs": [],
   "source": [
    "print( 'abs = ', np.abs(1+2j)) # 絶対値\n",
    "print( 'angle = ', np.angle(1+2j)) #  偏角"
   ]
  },
  {
   "cell_type": "markdown",
   "metadata": {},
   "source": [
    "### n 次方程式の根（root）\n",
    "\n",
    "- $a_n x^n + a_{n-1} x^{n-1} + \\cdots + a_1 x + a_0 = 0$ の根は次のコードで得られる．\n",
    "\n",
    "> np.roots( [$a_n$, $a_{n-1}$, $\\cdots$, $a_1$, $a_0$] )\n"
   ]
  },
  {
   "cell_type": "markdown",
   "metadata": {},
   "source": [
    "#### $x^2 + 2x + 3 = 0$ の根（実数根）"
   ]
  },
  {
   "cell_type": "code",
   "execution_count": null,
   "metadata": {
    "scrolled": true
   },
   "outputs": [],
   "source": [
    "np.roots([1, 3, 2])"
   ]
  },
  {
   "cell_type": "markdown",
   "metadata": {},
   "source": [
    "#### $x^2 + 1 = x^2 + 0x + 1 = 0$ の根（複素数根）"
   ]
  },
  {
   "cell_type": "code",
   "execution_count": null,
   "metadata": {},
   "outputs": [],
   "source": [
    "np.roots([1, 0, 1])"
   ]
  },
  {
   "cell_type": "markdown",
   "metadata": {},
   "source": [
    "#### $2x^4 + 7x^3 + x^2 + 2x + 3 = 0$ の根（どうなるでしょう？）"
   ]
  },
  {
   "cell_type": "code",
   "execution_count": null,
   "metadata": {
    "scrolled": true
   },
   "outputs": [],
   "source": [
    "np.roots([2, 7, 1, 2, 3])"
   ]
  },
  {
   "cell_type": "markdown",
   "metadata": {},
   "source": [
    "## ３．Python の制御文とユーザ関数"
   ]
  },
  {
   "cell_type": "markdown",
   "metadata": {},
   "source": [
    "### 繰り返し処理（ループ）\n",
    "\n",
    "次のように `for` を使って記述します．\n",
    "\n",
    "```python\n",
    "for 変数名 in range(反復回数): ←コロンを忘れずに！\n",
    "    インデントブロック　※\n",
    "    インデントブロック　※複数行に渡ってよい\n",
    "    インデントブロック　※\n",
    "```\n",
    "\n",
    "\n",
    "- 半角スペース…日本語入力OFFのときに入力される英語の空白文字．他方，かな漢字のスペースを全角スペースという．\n",
    "- インデント…半角スペースによる字下げ．全角スペースでインデントすると文法エラーになる．\n",
    "- インデントブロック…インデントの文字数を揃えた複数行の処理（1行でもよい）．<font color=\"red\">途中の空行は無視してくれる．</font>\n",
    "- Colab のコードセルは，インデント入力を補完する機能を備えている．"
   ]
  },
  {
   "cell_type": "code",
   "execution_count": null,
   "metadata": {
    "scrolled": true
   },
   "outputs": [],
   "source": [
    "A = np.array([\n",
    "    [-1, 2, 3],\n",
    "    [4, 5, 6],\n",
    "    [7, 8, 9]\n",
    "]) # 行列 A の作成\n",
    "\n",
    "for i in range(3): # i は 0, 1, 2 と動く\n",
    "    for j in range(3): # その中で，j は 0, 1, 2 と動く\n",
    "        print((i,j),A[i,j])"
   ]
  },
  {
   "cell_type": "markdown",
   "metadata": {},
   "source": [
    "### 条件分岐\n",
    "\n",
    "次のように `if` を使って記述します．\n",
    "\n",
    "```python\n",
    "if 条件: ←コロンを忘れずに！\n",
    "    インデントブロック（条件を満したときの処理）※複数行に渡ってよい\n",
    "```\n",
    "\n",
    "または\n",
    "\n",
    "```python\n",
    "if 条件: ←コロンを忘れずに！\n",
    "    インデントブロック（条件を満したときの処理）\n",
    "else: ←コロンを忘れずに！\n",
    "    インデントブロック（条件を満たさないときの処理）\n",
    "```\n",
    "\n",
    "または\n",
    "\n",
    "```python\n",
    "if 条件１: ←コロンを忘れずに！\n",
    "    インデントブロック（条件１を満したときの処理）\n",
    "elif 条件２: ←コロンを忘れずに！\n",
    "    インデントブロック（条件１を満たさず，条件２を満たしたときの処理）\n",
    "else: ←コロンを忘れずに！\n",
    "    インデントブロック（それ以外の処理）\n",
    "```\n",
    "\n",
    "※ `elif` は，いくつあっても（無くても）大丈夫です．"
   ]
  },
  {
   "cell_type": "code",
   "execution_count": null,
   "metadata": {},
   "outputs": [],
   "source": [
    "A = np.array([\n",
    "    [-1, 2, 3],\n",
    "    [4, 5, 6],\n",
    "    [7, 8, 9]\n",
    "]) # 行列 A の作成\n",
    "\n",
    "for i in range(3):\n",
    "    for j in range(3):\n",
    "        if i == j:\n",
    "            print( '対角要素', A[i,j] )\n",
    "        elif i<j:\n",
    "            print( '上三角', A[i,j] )\n",
    "        else:\n",
    "            print( 'それ以外（下三角）', A[i,j] )\n"
   ]
  },
  {
   "cell_type": "markdown",
   "metadata": {},
   "source": [
    "### ユーザー関数の定義\n",
    "\n",
    "自分で新しい関数を作ることができます．`def` を使って次のように記述します．\n",
    "\n",
    "```python\n",
    "def 関数名(引数1, 引数2, …): ←コロンを忘れずに！\n",
    "    インデントブロック　※複数行に渡ってよい\n",
    "    return 戻り値　←必要なければ省略可能\n",
    "```"
   ]
  },
  {
   "cell_type": "markdown",
   "metadata": {},
   "source": [
    "#### 【１変数関数の例】"
   ]
  },
  {
   "cell_type": "code",
   "execution_count": null,
   "metadata": {},
   "outputs": [],
   "source": [
    "def my_angle(c): #複素数から偏角を求めるユーザー関数\n",
    "    imag = np.imag(c) # 実部\n",
    "    real = np.real(c) # 虚部\n",
    "                      # 空行は無視される\n",
    "    angle = np.arctan(imag/real) # 偏角の数学的な定義\n",
    "                      # 空行は無視される    \n",
    "    return angle"
   ]
  },
  {
   "cell_type": "code",
   "execution_count": null,
   "metadata": {},
   "outputs": [],
   "source": [
    "my_angle(1 + 2j)"
   ]
  },
  {
   "cell_type": "code",
   "execution_count": null,
   "metadata": {},
   "outputs": [],
   "source": [
    "np.angle(1 + 2j)"
   ]
  },
  {
   "cell_type": "markdown",
   "metadata": {},
   "source": [
    "Numpy の `angle` 関数と同じ答えが出せてます．"
   ]
  },
  {
   "cell_type": "markdown",
   "metadata": {},
   "source": [
    "#### 【１変数関数で，戻り値を複数返す場合】"
   ]
  },
  {
   "cell_type": "code",
   "execution_count": null,
   "metadata": {},
   "outputs": [],
   "source": [
    "def my_real_imag_angle(c): #複素数から偏角を求めるユーザー関数\n",
    "    imag = np.imag(c) # 実部\n",
    "    real = np.real(c) # 虚部\n",
    "    \n",
    "    angle = np.arctan(imag/real) # 偏角の数学的な定義\n",
    "    \n",
    "    return (real, imag, angle) #カッコ内にコンマで並べるだけ"
   ]
  },
  {
   "cell_type": "code",
   "execution_count": null,
   "metadata": {},
   "outputs": [],
   "source": [
    "my_real_imag_angle(1 + 2j)"
   ]
  },
  {
   "cell_type": "markdown",
   "metadata": {},
   "source": [
    "#### 複数の戻り値は，カンマで並べた変数に一括代入できます．"
   ]
  },
  {
   "cell_type": "code",
   "execution_count": null,
   "metadata": {
    "scrolled": true
   },
   "outputs": [],
   "source": [
    "re, im, ang = my_real_imag_angle(1 + 2j)\n",
    "\n",
    "print(re)\n",
    "print(im)\n",
    "print(ang)"
   ]
  },
  {
   "cell_type": "markdown",
   "metadata": {},
   "source": [
    "## ４．Python によるグラフ作成\n",
    "\n",
    "グラフを作成するには，それ用のライブラリ（拡張機能）をインポートする（読み込む）必要があります．"
   ]
  },
  {
   "cell_type": "code",
   "execution_count": null,
   "metadata": {},
   "outputs": [],
   "source": [
    "import matplotlib.pyplot as plt # グラフ作成ライブラリを，短縮名 plt でインポートする．"
   ]
  },
  {
   "cell_type": "markdown",
   "metadata": {},
   "source": [
    "#### 【横軸を表す等差数列】　Python のプログラム例では，変数 x の複数形？ xs で数列やベクトルを表すことが多い．"
   ]
  },
  {
   "cell_type": "code",
   "execution_count": null,
   "metadata": {},
   "outputs": [],
   "source": [
    "xs = np.linspace( -5, 5, 100 ) # -5 〜 5 を100等分した等差数列\n",
    "xs"
   ]
  },
  {
   "cell_type": "markdown",
   "metadata": {},
   "source": [
    "#### 【sin関数の例】"
   ]
  },
  {
   "cell_type": "code",
   "execution_count": null,
   "metadata": {},
   "outputs": [],
   "source": [
    "ys = np.sin(xs)\n",
    "ys"
   ]
  },
  {
   "cell_type": "code",
   "execution_count": null,
   "metadata": {},
   "outputs": [],
   "source": [
    "plt.figure( figsize=(8,4) ) # グラフ用紙のサイズ\n",
    "plt.plot( xs, ys ) # プロット命令\n",
    "plt.grid() # グリッド表示\n",
    "\n",
    "### 各種のラベルやタイトルに，日本語は避けたほうが安全です．（文字化けするかも）\n",
    "plt.title( 'Sin function (xxxxxxX)' ) # 学籍番号を入れときましょう\n",
    "plt.xlabel( 'x' )  # 横軸ラベル\n",
    "plt.ylabel( 'sin(x)' )  # 横軸ラベル"
   ]
  },
  {
   "cell_type": "markdown",
   "metadata": {},
   "source": [
    "#### 【グラフの印刷】\n",
    "\n",
    "- 一番お手軽だと思われるのは，グラフ画像をワープロソフトに，コピペしてから印刷する方法です．\n",
    "    - 表示されているグラフ画像の，右クリックメニュー等から「画像をコピー」を実行する．\n",
    "    - ワードやパワーポイントなどのファイルにペーストする．\n",
    "    - そのソフトの印刷機能を使って印刷する．"
   ]
  },
  {
   "cell_type": "code",
   "execution_count": null,
   "metadata": {},
   "outputs": [],
   "source": []
  }
 ],
 "metadata": {
  "kernelspec": {
   "display_name": "Python 3",
   "language": "python",
   "name": "python3"
  },
  "language_info": {
   "codemirror_mode": {
    "name": "ipython",
    "version": 3
   },
   "file_extension": ".py",
   "mimetype": "text/x-python",
   "name": "python",
   "nbconvert_exporter": "python",
   "pygments_lexer": "ipython3",
   "version": "3.6.7"
  }
 },
 "nbformat": 4,
 "nbformat_minor": 2
}
