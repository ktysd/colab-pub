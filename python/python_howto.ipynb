{
  "nbformat": 4,
  "nbformat_minor": 0,
  "metadata": {
    "kernelspec": {
      "display_name": "Python 3",
      "language": "python",
      "name": "python3"
    },
    "language_info": {
      "codemirror_mode": {
        "name": "ipython",
        "version": 3
      },
      "file_extension": ".py",
      "mimetype": "text/x-python",
      "name": "python",
      "nbconvert_exporter": "python",
      "pygments_lexer": "ipython3",
      "version": "3.6.7"
    },
    "colab": {
      "name": "python_howto.ipynb のコピー",
      "provenance": []
    }
  },
  "cells": [
    {
      "cell_type": "markdown",
      "metadata": {
        "id": "TmQ4eBZJQieL"
      },
      "source": [
        "# Python 練習帳（数値計算向け） Colab版\n",
        "\n",
        "### 宇都宮大学　吉田勝俊"
      ]
    },
    {
      "cell_type": "markdown",
      "metadata": {
        "id": "Tiyyt8ANQieL"
      },
      "source": [
        "### <font color=\"red\">警告！（Colab版）</font>\n",
        "\n",
        "1. 「隠れセル」問題\n",
        "    - 〔 <font color=\"red\">***↳ ？ 個のセルが非表示***</font> 〕という表示があったら，その表示をクリックしてください．Colab が隠してしまったセルが表示されます．\n",
        "    - 隠れセルを全て，一括で表示するには，Colab メニュー「表示」→「セクションを展開」すればできます．\n",
        "\n",
        "2. 「入力した内容が消えてしまう」問題\n",
        "    - このファイルは，閉じると，入力した内容が消えてしまう，一時ファイルです．\n",
        "    - 自分が入力した内容を保存したいときは，Colab メニュー「ファイル」→「ドライブにコピーを保存」で各自保存してください．\n",
        "    - 保存したファイルの開き方は [Colab のインストール](https://github.com/ktysd/python-startup/blob/master/colab/install.md) の後半にある「Colab ファイルの実行」を参照してください．\n",
        "\n",
        "![ドライブへの保存](https://raw.githubusercontent.com/wiki/ktysd/python-startup/img/copy_to_drive.png)"
      ]
    },
    {
      "cell_type": "markdown",
      "metadata": {
        "id": "QTA3YAipQieM"
      },
      "source": [
        "## １．基本的事項\n",
        "\n",
        "### 用語説明\n",
        "* 「Colab ノートブック」　今みているこの文書．\n",
        "* 「セル」　Colab ノートブック内の入力可能な枠．\n",
        "* 「テキストセル」　文章を記述するためのセル．今読んでるここがテキストセルである．\n",
        "* 「コードセル」　Pythonのコードが実行できるセル．次行はコードセルである．"
      ]
    },
    {
      "cell_type": "code",
      "metadata": {
        "id": "CbmNYvPAQieM"
      },
      "source": [
        ""
      ],
      "execution_count": null,
      "outputs": []
    },
    {
      "cell_type": "markdown",
      "metadata": {
        "id": "swnB-Vl-QieM"
      },
      "source": [
        "### コードセルの実行方法\n",
        "\n",
        "- 該当セルをクリックして選択すると，セルの左側に <font color=\"red\"> 実行ボタン</font>（再生ボタンみたいな）が現れる．それをクリックする．\n",
        "- または，選択中にキーボードから <font color=\"red\">《Ctrl-Enter》</font> する （<font color=\"red\">Ctrlキーを押しながらEnterキーを押す</font>）．\n",
        "    * ブラウザによっては《Shift-Enter》も受け付けるみたい\n",
        "\n",
        "### コードセルの追加方法\n",
        "\n",
        "- 左上メニューの「挿入」→「コードセル」で追加できる．\n",
        "\n",
        "### コメントアウト\n",
        "\n",
        "- コードセル内に <font color=\"red\">#</font> 文字を置くと，そこから行末までを python は無視します．コードセル内のメモ書きに使います．"
      ]
    },
    {
      "cell_type": "markdown",
      "metadata": {
        "id": "eWFmGAyxQieV"
      },
      "source": [
        "## ２．Python による数値計算\n",
        "\n",
        "以下のコードセルを，順番に実行してみましょう．（実行ボタンをクリックするか，《Ctrl-Enter》）"
      ]
    },
    {
      "cell_type": "markdown",
      "metadata": {
        "id": "gl1VyuevQieV"
      },
      "source": [
        "### 四則演算・べき乗"
      ]
    },
    {
      "cell_type": "code",
      "metadata": {
        "id": "sBpkHzDlQieV",
        "colab": {
          "base_uri": "https://localhost:8080/"
        },
        "outputId": "ae0a67c9-a6f7-4d9f-fa26-3938235c10b0"
      },
      "source": [
        "1+2*3/4 # 1＋2×3÷4"
      ],
      "execution_count": 1,
      "outputs": [
        {
          "output_type": "execute_result",
          "data": {
            "text/plain": [
              "2.5"
            ]
          },
          "metadata": {
            "tags": []
          },
          "execution_count": 1
        }
      ]
    },
    {
      "cell_type": "code",
      "metadata": {
        "id": "Y5pD8xyPQieW",
        "colab": {
          "base_uri": "https://localhost:8080/"
        },
        "outputId": "76f22350-21fc-494d-cdbe-031fb1dd8c96"
      },
      "source": [
        "2**3 # 2の3乗"
      ],
      "execution_count": 2,
      "outputs": [
        {
          "output_type": "execute_result",
          "data": {
            "text/plain": [
              "8"
            ]
          },
          "metadata": {
            "tags": []
          },
          "execution_count": 2
        }
      ]
    },
    {
      "cell_type": "markdown",
      "metadata": {
        "id": "eP9npNXOQieW"
      },
      "source": [
        "### ベクトル・行列\n",
        "\n",
        "ベクトル演算するには，それ用のライブラリ（拡張機能）をインポートする（読み込む）必要があります．"
      ]
    },
    {
      "cell_type": "code",
      "metadata": {
        "id": "5Asa2VQ2QieW"
      },
      "source": [
        "import numpy as np # ベクトル演算ライブラリ numpy を，短縮名 np でインポートする．"
      ],
      "execution_count": 4,
      "outputs": []
    },
    {
      "cell_type": "markdown",
      "metadata": {
        "id": "598gqIKdQieW"
      },
      "source": [
        "#### 【ベクトルの作成】"
      ]
    },
    {
      "cell_type": "code",
      "metadata": {
        "id": "poP1NJZ-QieW",
        "colab": {
          "base_uri": "https://localhost:8080/"
        },
        "outputId": "7523ca8e-9200-4d07-9be4-9e625a054ee5"
      },
      "source": [
        "v = np.array([1, -2, 3]) # ベクトル v の作成\n",
        "print(v) #成分の確認"
      ],
      "execution_count": 5,
      "outputs": [
        {
          "output_type": "stream",
          "text": [
            "[ 1 -2  3]\n"
          ],
          "name": "stdout"
        }
      ]
    },
    {
      "cell_type": "markdown",
      "metadata": {
        "id": "K9T7pyB-QieW"
      },
      "source": [
        "#### 【ベクトルの成分】　<font color=\"red\">※ Python の添字は `0` から始まる（C言語などと同じ）</font>"
      ]
    },
    {
      "cell_type": "code",
      "metadata": {
        "id": "CMtzBsmLQieW",
        "colab": {
          "base_uri": "https://localhost:8080/"
        },
        "outputId": "36bf1d95-1714-4c94-ed9e-c5ee32ff76dd"
      },
      "source": [
        "print( v[0] ) # Python の第0成分 = 数学の第1成分\n",
        "print( v[1] ) # Python の第1成分 = 数学の第2成分\n",
        "print( v[2] ) # Python の第2成分 = 数学の第3成分"
      ],
      "execution_count": 6,
      "outputs": [
        {
          "output_type": "stream",
          "text": [
            "1\n",
            "-2\n",
            "3\n"
          ],
          "name": "stdout"
        }
      ]
    },
    {
      "cell_type": "markdown",
      "metadata": {
        "id": "G8cGZVgfQieW"
      },
      "source": [
        "#### 【行列の作成】"
      ]
    },
    {
      "cell_type": "code",
      "metadata": {
        "scrolled": true,
        "id": "3w2RazNTQieW",
        "colab": {
          "base_uri": "https://localhost:8080/"
        },
        "outputId": "98ffa84f-13f8-4d0d-97ea-cef84632ff25"
      },
      "source": [
        "A = np.array([\n",
        "    [-1, 2, 3],\n",
        "    [4, 5, 6],\n",
        "    [7, 8, 9]\n",
        "]) # 行列 A の作成\n",
        "print(A) # 成分の確認"
      ],
      "execution_count": 7,
      "outputs": [
        {
          "output_type": "stream",
          "text": [
            "[[-1  2  3]\n",
            " [ 4  5  6]\n",
            " [ 7  8  9]]\n"
          ],
          "name": "stdout"
        }
      ]
    },
    {
      "cell_type": "markdown",
      "metadata": {
        "id": "x4dN6ZpyQieY"
      },
      "source": [
        "#### 【行列の成分】"
      ]
    },
    {
      "cell_type": "code",
      "metadata": {
        "id": "zLsqNEm9QieZ",
        "colab": {
          "base_uri": "https://localhost:8080/"
        },
        "outputId": "fcbd51bf-c2c9-4611-ae4e-8488e3e9d859"
      },
      "source": [
        "print( A[2, 1] ) # Pythonの2行1列成分 ＝ 数学の3行2列成分"
      ],
      "execution_count": 8,
      "outputs": [
        {
          "output_type": "stream",
          "text": [
            "8\n"
          ],
          "name": "stdout"
        }
      ]
    },
    {
      "cell_type": "markdown",
      "metadata": {
        "id": "WDOLU1_DQieZ"
      },
      "source": [
        "#### 【行列の行ベクトル】 \" <font color=\"red\">:</font> \" で全成分を表す．この操作をPythonでは「スライス」という．"
      ]
    },
    {
      "cell_type": "code",
      "metadata": {
        "scrolled": true,
        "id": "Rn6rxtV8QieZ",
        "colab": {
          "base_uri": "https://localhost:8080/"
        },
        "outputId": "35bb0b40-10e1-4267-c841-513b38cf84b7"
      },
      "source": [
        "print( A[0, :] ) # Pythonの第0 行ベクトル ＝ 数学の第1 行ベクトル\n",
        "print( A[1, :] ) # Pythonの第1 行ベクトル ＝ 数学の第2 行ベクトル\n",
        "print( A[2, :] ) # Pythonの第2 行ベクトル ＝ 数学の第3 行ベクトル"
      ],
      "execution_count": 9,
      "outputs": [
        {
          "output_type": "stream",
          "text": [
            "[-1  2  3]\n",
            "[4 5 6]\n",
            "[7 8 9]\n"
          ],
          "name": "stdout"
        }
      ]
    },
    {
      "cell_type": "markdown",
      "metadata": {
        "id": "nA9YbiMdQieZ"
      },
      "source": [
        "#### 【行列の列ベクトル】"
      ]
    },
    {
      "cell_type": "code",
      "metadata": {
        "id": "UrJY1vbnQieZ",
        "colab": {
          "base_uri": "https://localhost:8080/"
        },
        "outputId": "c6b14b92-c45a-463d-e7fc-719d75b7fb76"
      },
      "source": [
        "print( A[:, 0] ) # Pythonの第0 列ベクトル ＝ 数学の第1 列ベクトル\n",
        "print( A[:, 1] ) # Pythonの第1 列ベクトル ＝ 数学の第2 列ベクトル\n",
        "print( A[:, 2] ) # Pythonの第2 列ベクトル ＝ 数学の第3 列ベクトル"
      ],
      "execution_count": 10,
      "outputs": [
        {
          "output_type": "stream",
          "text": [
            "[-1  4  7]\n",
            "[2 5 8]\n",
            "[3 6 9]\n"
          ],
          "name": "stdout"
        }
      ]
    },
    {
      "cell_type": "markdown",
      "metadata": {
        "id": "Dq8Rc3MKQieZ"
      },
      "source": [
        "#### 【行列の転置】"
      ]
    },
    {
      "cell_type": "code",
      "metadata": {
        "scrolled": true,
        "id": "YouVoxFRQieZ",
        "colab": {
          "base_uri": "https://localhost:8080/"
        },
        "outputId": "e6c7a12b-8366-4b6c-92be-914756820dd0"
      },
      "source": [
        "Atrans = A.T # (行列).T で転置を表す\n",
        "print(Atrans) # 成分の確認"
      ],
      "execution_count": 11,
      "outputs": [
        {
          "output_type": "stream",
          "text": [
            "[[-1  4  7]\n",
            " [ 2  5  8]\n",
            " [ 3  6  9]]\n"
          ],
          "name": "stdout"
        }
      ]
    },
    {
      "cell_type": "markdown",
      "metadata": {
        "id": "9vVbShdQQieZ"
      },
      "source": [
        "### 線形代数\n",
        "\n",
        "線形代数するには，それ用のライブラリ（拡張機能）をインポートする（読み込む）必要があります．"
      ]
    },
    {
      "cell_type": "code",
      "metadata": {
        "id": "Ac7aQDrUQieZ"
      },
      "source": [
        "import numpy.linalg as la # numpy に含まれる線形代数ライブラリを，短縮名 la でインポートする．"
      ],
      "execution_count": 13,
      "outputs": []
    },
    {
      "cell_type": "markdown",
      "metadata": {
        "id": "Fvnha96MQieZ"
      },
      "source": [
        "#### 【ベクトルの内積】"
      ]
    },
    {
      "cell_type": "code",
      "metadata": {
        "id": "TTSXt75LQieZ",
        "colab": {
          "base_uri": "https://localhost:8080/"
        },
        "outputId": "27e83cda-cbe0-44ec-855a-28f3ce972a13"
      },
      "source": [
        "w = np.array([1, -2, 5]) # ベクトル w の作成\n",
        "np.dot(v, w) # ベクトル v とベクトル w の内積"
      ],
      "execution_count": 14,
      "outputs": [
        {
          "output_type": "execute_result",
          "data": {
            "text/plain": [
              "20"
            ]
          },
          "metadata": {
            "tags": []
          },
          "execution_count": 14
        }
      ]
    },
    {
      "cell_type": "markdown",
      "metadata": {
        "id": "8px4KtIVQieZ"
      },
      "source": [
        "#### 【行列とベクトルの積】"
      ]
    },
    {
      "cell_type": "code",
      "metadata": {
        "scrolled": true,
        "id": "U3_idiU2QieZ",
        "colab": {
          "base_uri": "https://localhost:8080/"
        },
        "outputId": "4566d1f9-abfe-403f-f48f-b710ae807803"
      },
      "source": [
        "np.dot(A, v) # 行列 A とベクトル v の積"
      ],
      "execution_count": 15,
      "outputs": [
        {
          "output_type": "execute_result",
          "data": {
            "text/plain": [
              "array([ 4, 12, 18])"
            ]
          },
          "metadata": {
            "tags": []
          },
          "execution_count": 15
        }
      ]
    },
    {
      "cell_type": "markdown",
      "metadata": {
        "id": "rJ_Rpm6gQieZ"
      },
      "source": [
        "#### 【行列と行列の積】"
      ]
    },
    {
      "cell_type": "code",
      "metadata": {
        "id": "gInlXZzzQieZ",
        "colab": {
          "base_uri": "https://localhost:8080/"
        },
        "outputId": "cdce70eb-7589-470e-ac4a-563744cbd7d8"
      },
      "source": [
        "np.dot(A, Atrans) # 行列 A と行列 Atrans の積"
      ],
      "execution_count": 16,
      "outputs": [
        {
          "output_type": "execute_result",
          "data": {
            "text/plain": [
              "array([[ 14,  24,  36],\n",
              "       [ 24,  77, 122],\n",
              "       [ 36, 122, 194]])"
            ]
          },
          "metadata": {
            "tags": []
          },
          "execution_count": 16
        }
      ]
    },
    {
      "cell_type": "markdown",
      "metadata": {
        "id": "LS4MAVffQieZ"
      },
      "source": [
        "#### 【逆行列】"
      ]
    },
    {
      "cell_type": "code",
      "metadata": {
        "id": "xeCVMY0FQieZ",
        "colab": {
          "base_uri": "https://localhost:8080/"
        },
        "outputId": "65ae467b-b352-4a05-f7e9-191a87751a9b"
      },
      "source": [
        "Ainv = la.inv(A) # A の逆行列\n",
        "print( 'Ainv = ', Ainv) # 逆行列の成分\n",
        "AinvA = np.dot(Ainv, A) # 行列と逆行列の積\n",
        "print( 'AinvA = ', AinvA)"
      ],
      "execution_count": 17,
      "outputs": [
        {
          "output_type": "stream",
          "text": [
            "Ainv =  [[-0.5         1.         -0.5       ]\n",
            " [ 1.         -5.          3.        ]\n",
            " [-0.5         3.66666667 -2.16666667]]\n",
            "AinvA =  [[ 1.00000000e+00 -2.22044605e-15 -3.77475828e-15]\n",
            " [ 0.00000000e+00  1.00000000e+00  7.10542736e-15]\n",
            " [ 8.88178420e-16  0.00000000e+00  1.00000000e+00]]\n"
          ],
          "name": "stdout"
        }
      ]
    },
    {
      "cell_type": "markdown",
      "metadata": {
        "id": "i0t9bGbWQieZ"
      },
      "source": [
        "**※ 計算機誤差について**\n",
        "\n",
        "- `AinvA` は数学的には単位行列になるはずだが，そうなってない．\n",
        "- 8.88178420e-16 等は $8.88178420\\times10^{-16}$ のコンピュータ表記である．\n",
        "    - `AinvA` の非対角要素は，`0`ではないものの，`0`に極めて近い．\n",
        "- このような真値からのズレは，電算機の丸め誤差から生じている．このような誤差を，**計算機誤差** という．\n",
        "    - しばしば，次のように言い表す．「計算機誤差を考慮すると，`AinvA` は単位行列とみなせる」"
      ]
    },
    {
      "cell_type": "markdown",
      "metadata": {
        "id": "Kh6HKEHLQiea"
      },
      "source": [
        "#### 【行列の固有値・固有ベクトル】 <font color=\"red\">計算結果の列ベクトルが固有ベクトル</font>"
      ]
    },
    {
      "cell_type": "markdown",
      "metadata": {
        "id": "6zM9SJJ3Qiea"
      },
      "source": [
        "#### 計算結果をそのまま表示"
      ]
    },
    {
      "cell_type": "code",
      "metadata": {
        "scrolled": true,
        "id": "aRGLmRDeQiea",
        "colab": {
          "base_uri": "https://localhost:8080/"
        },
        "outputId": "041183ac-7270-41d5-ba42-5407d734adef"
      },
      "source": [
        "eig_val, eig_vec = la.eig(A)\n",
        "print( '固有値', eig_val) # 固有値の並び\n",
        "print( '固有ベクトル', eig_vec) # 列ベクトルが固有ベクトルを表す"
      ],
      "execution_count": 18,
      "outputs": [
        {
          "output_type": "stream",
          "text": [
            "固有値 [15.91419258 -2.77849996 -0.13569263]\n",
            "固有ベクトル [[-0.20845476 -0.88435591  0.15856557]\n",
            " [-0.52872502  0.10368394 -0.79983004]\n",
            " [-0.82279795  0.45515302  0.57890316]]\n"
          ],
          "name": "stdout"
        }
      ]
    },
    {
      "cell_type": "markdown",
      "metadata": {
        "id": "ZzuTys6ZQiea"
      },
      "source": [
        "#### 対応する固有値・固有ベクトルごとに表示"
      ]
    },
    {
      "cell_type": "code",
      "metadata": {
        "id": "mhphrN62Qiea",
        "colab": {
          "base_uri": "https://localhost:8080/"
        },
        "outputId": "5f0f8d64-4785-400f-f078-e6148dca1e05"
      },
      "source": [
        "print( eig_val[0], eig_vec[:,0] ) # 1つ目の固有値・固有ベクトル\n",
        "print( eig_val[1], eig_vec[:,1] ) # 2つ目の固有値・固有ベクトル\n",
        "print( eig_val[2], eig_vec[:,2] ) # 3つ目の固有値・固有ベクトル"
      ],
      "execution_count": 19,
      "outputs": [
        {
          "output_type": "stream",
          "text": [
            "15.914192581153744 [-0.20845476 -0.52872502 -0.82279795]\n",
            "-2.7784999552313403 [-0.88435591  0.10368394  0.45515302]\n",
            "-0.13569262592243475 [ 0.15856557 -0.79983004  0.57890316]\n"
          ],
          "name": "stdout"
        }
      ]
    },
    {
      "cell_type": "markdown",
      "metadata": {
        "id": "zuYFY77QQiea"
      },
      "source": [
        "### 複素数 \n",
        "\n",
        "#### <p><font color=\"red\">`j`で虚数単位を表す</font></p>"
      ]
    },
    {
      "cell_type": "code",
      "metadata": {
        "scrolled": true,
        "id": "JidqdglxQiea",
        "colab": {
          "base_uri": "https://localhost:8080/"
        },
        "outputId": "13a00e05-5ba6-4bfb-9da5-627bf09a414e"
      },
      "source": [
        "z = 1 + 2j\n",
        "z"
      ],
      "execution_count": 20,
      "outputs": [
        {
          "output_type": "execute_result",
          "data": {
            "text/plain": [
              "(1+2j)"
            ]
          },
          "metadata": {
            "tags": []
          },
          "execution_count": 20
        }
      ]
    },
    {
      "cell_type": "markdown",
      "metadata": {
        "id": "FCHb18PzQiea"
      },
      "source": [
        "#### 【複素共役（conjugate）】"
      ]
    },
    {
      "cell_type": "code",
      "metadata": {
        "id": "KlOsBMCbQiea",
        "colab": {
          "base_uri": "https://localhost:8080/"
        },
        "outputId": "a9b9520f-a012-4bfa-b159-fe6229c67ea9"
      },
      "source": [
        "np.conj(1+2j)"
      ],
      "execution_count": 21,
      "outputs": [
        {
          "output_type": "execute_result",
          "data": {
            "text/plain": [
              "(1-2j)"
            ]
          },
          "metadata": {
            "tags": []
          },
          "execution_count": 21
        }
      ]
    },
    {
      "cell_type": "markdown",
      "metadata": {
        "id": "L8XJyk35Qiea"
      },
      "source": [
        "#### 【複素数の実部（real part）と虚部（imaginary part）】"
      ]
    },
    {
      "cell_type": "code",
      "metadata": {
        "id": "IXId81TeQiea",
        "colab": {
          "base_uri": "https://localhost:8080/"
        },
        "outputId": "452131d1-d21c-433c-dce8-c047e7044658"
      },
      "source": [
        "np.real(z) # 実部"
      ],
      "execution_count": 22,
      "outputs": [
        {
          "output_type": "execute_result",
          "data": {
            "text/plain": [
              "1.0"
            ]
          },
          "metadata": {
            "tags": []
          },
          "execution_count": 22
        }
      ]
    },
    {
      "cell_type": "code",
      "metadata": {
        "id": "hCCxSjkqQiea",
        "colab": {
          "base_uri": "https://localhost:8080/"
        },
        "outputId": "484de12d-750a-4e70-871d-4f91445d786d"
      },
      "source": [
        "np.imag(1+2j) # 虚部"
      ],
      "execution_count": 23,
      "outputs": [
        {
          "output_type": "execute_result",
          "data": {
            "text/plain": [
              "2.0"
            ]
          },
          "metadata": {
            "tags": []
          },
          "execution_count": 23
        }
      ]
    },
    {
      "cell_type": "markdown",
      "metadata": {
        "id": "4-bXw9dKQiea"
      },
      "source": [
        "#### 【複素数の四則演算】"
      ]
    },
    {
      "cell_type": "code",
      "metadata": {
        "id": "1UQCN8x-Qiea",
        "colab": {
          "base_uri": "https://localhost:8080/"
        },
        "outputId": "c1e80b99-6ed1-41ec-809a-fc2662962b88"
      },
      "source": [
        "(1 + 2j) + (3 + 4j) # 複素数ごとに括弧でくくること推奨！"
      ],
      "execution_count": 24,
      "outputs": [
        {
          "output_type": "execute_result",
          "data": {
            "text/plain": [
              "(4+6j)"
            ]
          },
          "metadata": {
            "tags": []
          },
          "execution_count": 24
        }
      ]
    },
    {
      "cell_type": "code",
      "metadata": {
        "id": "x_XTEO6fQiea",
        "colab": {
          "base_uri": "https://localhost:8080/"
        },
        "outputId": "e70fed5a-a567-4004-e21c-4b22b125a3b4"
      },
      "source": [
        "1 + 2j + 3 + 4j # 括弧なしでもできるけど，見にくい！"
      ],
      "execution_count": 25,
      "outputs": [
        {
          "output_type": "execute_result",
          "data": {
            "text/plain": [
              "(4+6j)"
            ]
          },
          "metadata": {
            "tags": []
          },
          "execution_count": 25
        }
      ]
    },
    {
      "cell_type": "code",
      "metadata": {
        "id": "DGIQ_WX5Qieb",
        "colab": {
          "base_uri": "https://localhost:8080/"
        },
        "outputId": "d71e7300-6803-49f7-9312-16c6a776e44a"
      },
      "source": [
        "(1 + 2j) / (3 + 4j) # 割り算してみる．引き算 - ，掛け算 *  も普通にできる．"
      ],
      "execution_count": 26,
      "outputs": [
        {
          "output_type": "execute_result",
          "data": {
            "text/plain": [
              "(0.44+0.08j)"
            ]
          },
          "metadata": {
            "tags": []
          },
          "execution_count": 26
        }
      ]
    },
    {
      "cell_type": "markdown",
      "metadata": {
        "id": "yRUGLcKxQieb"
      },
      "source": [
        "#### 【複素数の絶対値（absolute value）と偏角（angle）】"
      ]
    },
    {
      "cell_type": "code",
      "metadata": {
        "id": "eOVfGzsVQieb",
        "colab": {
          "base_uri": "https://localhost:8080/"
        },
        "outputId": "70750370-bf6a-49a3-cc01-9278d6dbff6c"
      },
      "source": [
        "print( 'abs = ', np.abs(1+2j)) # 絶対値\n",
        "print( 'angle = ', np.angle(1+2j)) #  偏角"
      ],
      "execution_count": 27,
      "outputs": [
        {
          "output_type": "stream",
          "text": [
            "abs =  2.23606797749979\n",
            "angle =  1.1071487177940904\n"
          ],
          "name": "stdout"
        }
      ]
    },
    {
      "cell_type": "markdown",
      "metadata": {
        "id": "uOlQY1QrQieb"
      },
      "source": [
        "### n 次方程式の根（root）\n",
        "\n",
        "- $a_n x^n + a_{n-1} x^{n-1} + \\cdots + a_1 x + a_0 = 0$ の根は次のコードで得られる．\n",
        "\n",
        "> np.roots( [$a_n$, $a_{n-1}$, $\\cdots$, $a_1$, $a_0$] )\n"
      ]
    },
    {
      "cell_type": "markdown",
      "metadata": {
        "id": "cSrpr3gxQieb"
      },
      "source": [
        "#### $x^2 + 2x + 3 = 0$ の根（実数根）"
      ]
    },
    {
      "cell_type": "code",
      "metadata": {
        "scrolled": true,
        "id": "HEf2xbRcQieb",
        "colab": {
          "base_uri": "https://localhost:8080/"
        },
        "outputId": "a364ce8e-2ff3-4a70-eee8-2b34a5893fd4"
      },
      "source": [
        "np.roots([1, 2, 3])"
      ],
      "execution_count": 28,
      "outputs": [
        {
          "output_type": "execute_result",
          "data": {
            "text/plain": [
              "array([-1.+1.41421356j, -1.-1.41421356j])"
            ]
          },
          "metadata": {
            "tags": []
          },
          "execution_count": 28
        }
      ]
    },
    {
      "cell_type": "markdown",
      "metadata": {
        "id": "bDKE7lU3Qieb"
      },
      "source": [
        "#### $x^2 + 1 = x^2 + 0x + 1 = 0$ の根（複素数根）"
      ]
    },
    {
      "cell_type": "code",
      "metadata": {
        "id": "J4_B7xRmQieb",
        "colab": {
          "base_uri": "https://localhost:8080/"
        },
        "outputId": "5271b73e-df5c-40c4-fdcd-9509f1d9a61b"
      },
      "source": [
        "np.roots([1, 0, 1])"
      ],
      "execution_count": 29,
      "outputs": [
        {
          "output_type": "execute_result",
          "data": {
            "text/plain": [
              "array([-0.+1.j,  0.-1.j])"
            ]
          },
          "metadata": {
            "tags": []
          },
          "execution_count": 29
        }
      ]
    },
    {
      "cell_type": "markdown",
      "metadata": {
        "id": "dgkgM8kTQieb"
      },
      "source": [
        "#### $2x^4 + 7x^3 + x^2 + 2x + 3 = 0$ の根（どうなるでしょう？）"
      ]
    },
    {
      "cell_type": "code",
      "metadata": {
        "scrolled": true,
        "id": "yrIb6ZzEQieb",
        "colab": {
          "base_uri": "https://localhost:8080/"
        },
        "outputId": "9a7817dd-fe1b-451f-c51d-d9795e2bb57f"
      },
      "source": [
        "np.roots([2, 7, 1, 2, 3])"
      ],
      "execution_count": 30,
      "outputs": [
        {
          "output_type": "execute_result",
          "data": {
            "text/plain": [
              "array([-3.40131658+0.j        ,  0.31084386+0.71803095j,\n",
              "        0.31084386-0.71803095j, -0.72037114+0.j        ])"
            ]
          },
          "metadata": {
            "tags": []
          },
          "execution_count": 30
        }
      ]
    },
    {
      "cell_type": "markdown",
      "metadata": {
        "id": "4Ll_hYDWQieb"
      },
      "source": [
        "## ３．Python の制御文とユーザ関数"
      ]
    },
    {
      "cell_type": "markdown",
      "metadata": {
        "id": "3Qks_7i2Qieb"
      },
      "source": [
        "### 繰り返し処理（ループ）\n",
        "\n",
        "次のように `for` を使って記述します．\n",
        "\n",
        "```python\n",
        "for 変数名 in range(反復回数): ←コロンを忘れずに！\n",
        "    インデントブロック　※\n",
        "    インデントブロック　※複数行に渡ってよい\n",
        "    インデントブロック　※\n",
        "```\n",
        "\n",
        "\n",
        "- 「半角スペース」　日本語入力OFFのときに入力される英語の空白文字．他方，かな漢字のスペースを全角スペースという．\n",
        "- 「インデント」　半角スペースによる字下げ．全角スペースでインデントすると文法エラーになる．\n",
        "- 「インデントブロック」　インデントの文字数を揃えた複数行の処理（1行でもよい）．<font color=\"red\">途中の空行は無視してくれる．</font>\n",
        "- Colab のコードセルは，インデント入力を補完する機能を備えている．"
      ]
    },
    {
      "cell_type": "code",
      "metadata": {
        "scrolled": true,
        "id": "OP_xDH_QQieb"
      },
      "source": [
        "A = np.array([\n",
        "    [-1, 2, 3],\n",
        "    [4, 5, 6],\n",
        "    [7, 8, 9]\n",
        "]) # 行列 A の作成\n",
        "\n",
        "for i in range(3): # i は 0, 1, 2 と動く\n",
        "    for j in range(3): # その中で，j は 0, 1, 2 と動く\n",
        "        print((i,j),A[i,j])"
      ],
      "execution_count": null,
      "outputs": []
    },
    {
      "cell_type": "markdown",
      "metadata": {
        "id": "fySjUQDZQieb"
      },
      "source": [
        "### 条件分岐\n",
        "\n",
        "次のように `if` を使って記述します．\n",
        "\n",
        "```python\n",
        "if 条件: ←コロンを忘れずに！\n",
        "    インデントブロック（条件を満したときの処理）※複数行に渡ってよい\n",
        "```\n",
        "\n",
        "または\n",
        "\n",
        "```python\n",
        "if 条件: ←コロンを忘れずに！\n",
        "    インデントブロック（条件を満したときの処理）\n",
        "else: ←コロンを忘れずに！\n",
        "    インデントブロック（条件を満たさないときの処理）\n",
        "```\n",
        "\n",
        "または\n",
        "\n",
        "```python\n",
        "if 条件１: ←コロンを忘れずに！\n",
        "    インデントブロック（条件１を満したときの処理）\n",
        "elif 条件２: ←コロンを忘れずに！\n",
        "    インデントブロック（条件１を満たさず，条件２を満たしたときの処理）\n",
        "else: ←コロンを忘れずに！\n",
        "    インデントブロック（それ以外の処理）\n",
        "```\n",
        "\n",
        "※ `elif` は，いくつあっても（無くても）大丈夫です．"
      ]
    },
    {
      "cell_type": "code",
      "metadata": {
        "id": "5xzu_NlEQieb"
      },
      "source": [
        "A = np.array([\n",
        "    [-1, 2, 3],\n",
        "    [4, 5, 6],\n",
        "    [7, 8, 9]\n",
        "]) # 行列 A の作成\n",
        "\n",
        "for i in range(3):\n",
        "    for j in range(3):\n",
        "        if i == j:\n",
        "            print( '対角要素', A[i,j] )\n",
        "        elif i<j:\n",
        "            print( '上三角', A[i,j] )\n",
        "        else:\n",
        "            print( 'それ以外（下三角）', A[i,j] )\n"
      ],
      "execution_count": null,
      "outputs": []
    },
    {
      "cell_type": "markdown",
      "metadata": {
        "id": "4G2tj2GtQieb"
      },
      "source": [
        "### ユーザー関数の定義\n",
        "\n",
        "自分で新しい関数を作ることができます．`def` を使って次のように記述します．\n",
        "\n",
        "```python\n",
        "def 関数名(引数1, 引数2, …): ←コロンを忘れずに！\n",
        "    インデントブロック　※複数行に渡ってよい\n",
        "    return 戻り値　←必要なければ省略可能\n",
        "```"
      ]
    },
    {
      "cell_type": "markdown",
      "metadata": {
        "id": "eqQAdcL5Qieh"
      },
      "source": [
        "#### 【１変数関数の例】"
      ]
    },
    {
      "cell_type": "code",
      "metadata": {
        "id": "vKwLbMOIQieh"
      },
      "source": [
        "def my_angle(c): #複素数から偏角を求めるユーザー関数\n",
        "    imag = np.imag(c) # 実部\n",
        "    real = np.real(c) # 虚部\n",
        "                      # 空行は無視される\n",
        "    angle = np.arctan(imag/real) # 偏角の数学的な定義\n",
        "                      # 空行は無視される    \n",
        "    return angle"
      ],
      "execution_count": null,
      "outputs": []
    },
    {
      "cell_type": "code",
      "metadata": {
        "id": "MUnCxc4KQiei"
      },
      "source": [
        "my_angle(1 + 2j)"
      ],
      "execution_count": null,
      "outputs": []
    },
    {
      "cell_type": "code",
      "metadata": {
        "id": "fgbrGeyyQiei"
      },
      "source": [
        "np.angle(1 + 2j)"
      ],
      "execution_count": null,
      "outputs": []
    },
    {
      "cell_type": "markdown",
      "metadata": {
        "id": "E0IKFDW6Qiei"
      },
      "source": [
        "Numpy の `angle` 関数と同じ答えが出せてます．"
      ]
    },
    {
      "cell_type": "markdown",
      "metadata": {
        "id": "FQB0yq-yQiei"
      },
      "source": [
        "#### 【１変数関数で，戻り値を複数返す場合】"
      ]
    },
    {
      "cell_type": "code",
      "metadata": {
        "id": "-baCKmuXQiei"
      },
      "source": [
        "def my_real_imag_angle(c): #複素数から偏角を求めるユーザー関数\n",
        "    imag = np.imag(c) # 実部\n",
        "    real = np.real(c) # 虚部\n",
        "    \n",
        "    angle = np.arctan(imag/real) # 偏角の数学的な定義\n",
        "    \n",
        "    return (real, imag, angle) #カッコ内にコンマで並べるだけ"
      ],
      "execution_count": null,
      "outputs": []
    },
    {
      "cell_type": "code",
      "metadata": {
        "id": "IEMmUL7cQiei"
      },
      "source": [
        "my_real_imag_angle(1 + 2j)"
      ],
      "execution_count": null,
      "outputs": []
    },
    {
      "cell_type": "markdown",
      "metadata": {
        "id": "NmE_ZMgmQiei"
      },
      "source": [
        "#### 複数の戻り値は，カンマで並べた変数に一括代入できます．"
      ]
    },
    {
      "cell_type": "code",
      "metadata": {
        "scrolled": true,
        "id": "JG-fzf0lQiei"
      },
      "source": [
        "re, im, ang = my_real_imag_angle(1 + 2j)\n",
        "\n",
        "print(re)\n",
        "print(im)\n",
        "print(ang)"
      ],
      "execution_count": null,
      "outputs": []
    },
    {
      "cell_type": "markdown",
      "metadata": {
        "id": "uEac5CM7Qiei"
      },
      "source": [
        "## ４．Python によるグラフ作成\n",
        "\n",
        "グラフを作成するには，それ用のライブラリ（拡張機能）をインポートする（読み込む）必要があります．"
      ]
    },
    {
      "cell_type": "code",
      "metadata": {
        "id": "dXdFM_HpQiei"
      },
      "source": [
        "import matplotlib.pyplot as plt # グラフ作成ライブラリを，短縮名 plt でインポートする．"
      ],
      "execution_count": null,
      "outputs": []
    },
    {
      "cell_type": "markdown",
      "metadata": {
        "id": "91pF0mHDQiei"
      },
      "source": [
        "#### 【横軸を表す等差数列】　Python のプログラム例では，変数 x の複数形？ xs で数列やベクトルを表すことが多い．"
      ]
    },
    {
      "cell_type": "code",
      "metadata": {
        "id": "mFx3gt4-Qiei"
      },
      "source": [
        "xs = np.linspace( -5, 5, 100 ) # -5 〜 5 を100等分した等差数列\n",
        "xs"
      ],
      "execution_count": null,
      "outputs": []
    },
    {
      "cell_type": "markdown",
      "metadata": {
        "id": "Fo80NqUgQiei"
      },
      "source": [
        "#### 【sin関数の例】"
      ]
    },
    {
      "cell_type": "code",
      "metadata": {
        "id": "7NcyxzP-Qiei"
      },
      "source": [
        "ys = np.sin(xs)\n",
        "ys"
      ],
      "execution_count": null,
      "outputs": []
    },
    {
      "cell_type": "code",
      "metadata": {
        "id": "X4rMU6o6Qiej"
      },
      "source": [
        "plt.figure( figsize=(8,4) ) # グラフ用紙のサイズ\n",
        "plt.plot( xs, ys ) # プロット命令\n",
        "plt.grid() # グリッド表示\n",
        "\n",
        "### 各種のラベルやタイトルに，日本語は避けたほうが安全です．（文字化けするかも）\n",
        "plt.title( 'Sin function (xxxxxxX)' ) # 学籍番号を入れときましょう\n",
        "plt.xlabel( 'x' )  # 横軸ラベル\n",
        "plt.ylabel( 'sin(x)' )  # 横軸ラベル"
      ],
      "execution_count": null,
      "outputs": []
    },
    {
      "cell_type": "markdown",
      "metadata": {
        "id": "wmy0sX6kQiej"
      },
      "source": [
        "#### 【グラフの印刷】\n",
        "\n",
        "- 一番お手軽だと思われるのは，グラフ画像をワープロソフトに，コピペしてから印刷する方法です．\n",
        "    - 表示されているグラフ画像の，右クリックメニュー等から「画像をコピー」を実行する．\n",
        "    - ワードやパワーポイントなどのファイルにペーストする．\n",
        "    - そのソフトの印刷機能を使って印刷する．\n",
        "\n",
        "![グラフのコピー](https://raw.githubusercontent.com/wiki/ktysd/python-startup/img//Graph_copy_s.png)"
      ]
    },
    {
      "cell_type": "code",
      "metadata": {
        "id": "Kmqyc8rTQiej"
      },
      "source": [
        ""
      ],
      "execution_count": null,
      "outputs": []
    }
  ]
}